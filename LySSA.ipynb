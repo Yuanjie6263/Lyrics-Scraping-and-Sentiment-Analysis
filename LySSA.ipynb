{
 "cells": [
  {
   "cell_type": "markdown",
   "id": "393465d0",
   "metadata": {},
   "source": [
    "# Collecting Data Final Individual Project - \n",
    "\n",
    "# Lyrics Scraping and Sentiment Analysis"
   ]
  },
  {
   "cell_type": "markdown",
   "id": "339ae436",
   "metadata": {},
   "source": [
    "### This project contains two parts:\n",
    "\n",
    "   #### a. scraping lyrics data;\n",
    "\n",
    "   #### b. lyrics sentiment analysis of two chosen albums from two different singers.\n",
    "   \n",
    "   \n",
    " \n",
    "#### The data source of this project is the website: https://www.azlyrics.com/, which contains a large number of lyrics for songs by various artists."
   ]
  },
  {
   "cell_type": "code",
   "execution_count": 10,
   "id": "d0369d26",
   "metadata": {},
   "outputs": [],
   "source": [
    "from bs4 import BeautifulSoup\n",
    "import requests\n",
    "import time\n",
    "import pandas as pd\n",
    "import matplotlib.pyplot as plt\n",
    "import seaborn as sns"
   ]
  },
  {
   "cell_type": "markdown",
   "id": "8ce2f274",
   "metadata": {},
   "source": [
    "### Create a function to get all urls of the songs on the chosen album (taking album: \"Taylor Swift\" (2006) as an example)."
   ]
  },
  {
   "cell_type": "markdown",
   "id": "d396d3e5",
   "metadata": {},
   "source": [
    "By checking the page, we can see that the album id we want to capture is 5765, and the next album id is 6432, so we can use ”find” and “next_siblings()” to capture the content in between the two tags named \"id\", and use it to capture links to songs from the album 'Taylor Swift'."
   ]
  },
  {
   "cell_type": "code",
   "execution_count": 2,
   "id": "04b175c8",
   "metadata": {},
   "outputs": [],
   "source": [
    "def song_urls (url, album_id_to_scrape, next_album_id):\n",
    "    response = requests.get(url)\n",
    "    soup = BeautifulSoup(response.text, 'html.parser')\n",
    "\n",
    "    tag1 = soup.find('div', {'id':album_id_to_scrape})\n",
    "    tag2 = soup.find('div', {'id':next_album_id})\n",
    "\n",
    "    tag_list = []\n",
    "    urls = []\n",
    "    for tag in tag1.next_siblings:\n",
    "        if tag == tag2:\n",
    "            break\n",
    "        tag_list.append(tag)\n",
    "\n",
    "    while '\\n' in tag_list:\n",
    "        tag_list.remove('\\n')\n",
    "\n",
    "    for item in tag_list:\n",
    "        song_url = 'https://www.azlyrics.com/' + item.find('a')['href']\n",
    "        urls.append(song_url)\n",
    "    return urls"
   ]
  },
  {
   "cell_type": "markdown",
   "id": "25c2fe38",
   "metadata": {},
   "source": [
    "### Create a function to scrape lyrics of each song."
   ]
  },
  {
   "cell_type": "code",
   "execution_count": 3,
   "id": "6dc89546",
   "metadata": {},
   "outputs": [],
   "source": [
    "def get_lyrics(url):\n",
    "    response = requests.get(url)\n",
    "    soup = BeautifulSoup(response.text, 'html.parser')\n",
    "\n",
    "    title = soup.find('h1').text.replace('\"', '').replace(' lyrics', '')\n",
    "    artist = soup.find('h2').text.replace(' Lyrics', '')\n",
    "    text = soup.find('div', attrs = 'col-xs-12 col-lg-8 text-center').text.replace('\\\\', '').replace('\\n', '')\n",
    "    lyrics_dirty, _, _ = text.partition('Submit Corrections')\n",
    "    _,body = lyrics_dirty.split('\\r', 1)\n",
    "    lyrics = body.replace('\\r', ',')\n",
    "    \n",
    "    return title, artist, lyrics"
   ]
  },
  {
   "cell_type": "markdown",
   "id": "145d82d1",
   "metadata": {},
   "source": [
    "### Scrape lyrics data and integrate in a csv file"
   ]
  },
  {
   "cell_type": "markdown",
   "id": "851ac034",
   "metadata": {},
   "source": [
    "In the process of scraping data, too many visits in a short period of time will be flagged by the page and cause the scraping process to fail, so an interval of 5 seconds is added."
   ]
  },
  {
   "cell_type": "code",
   "execution_count": 15,
   "id": "38f8f271",
   "metadata": {},
   "outputs": [],
   "source": [
    "def get_csv(urls, outname):\n",
    "    data = []\n",
    "    for url in urls:\n",
    "        data.append(get_lyrics(url))\n",
    "        time.sleep(5)\n",
    "    lrc = pd.DataFrame(data, columns = ['Title','Artist', 'Lyrics'])\n",
    "    lrc.to_csv(outname, encoding = 'utf-8')"
   ]
  },
  {
   "cell_type": "markdown",
   "id": "2368018d",
   "metadata": {},
   "source": [
    " "
   ]
  },
  {
   "cell_type": "markdown",
   "id": "4a95874e",
   "metadata": {},
   "source": [
    "### Data Scraping"
   ]
  },
  {
   "cell_type": "code",
   "execution_count": 16,
   "id": "bae48d20",
   "metadata": {},
   "outputs": [],
   "source": [
    "# Taylor Swift's first album - Taylor Swift (2006)\n",
    "\n",
    "url = 'https://www.azlyrics.com/t/taylorswift.html'\n",
    "urls = song_urls (url, '5765','6432')\n",
    "get_csv(urls, 'Lyrics-TaylorSwift.csv')"
   ]
  },
  {
   "cell_type": "code",
   "execution_count": 14,
   "id": "b5b4721d",
   "metadata": {},
   "outputs": [],
   "source": [
    "# Ed Sheeran's first ablum - Ed Sheeran (2006)\n",
    "\n",
    "url = 'https://www.azlyrics.com/e/edsheeran.html'\n",
    "urls = song_urls (url, '16703','16704')\n",
    "get_csv(urls, 'Lyrics-EdSheeran.csv')"
   ]
  },
  {
   "cell_type": "markdown",
   "id": "36d9c206",
   "metadata": {},
   "source": [
    " "
   ]
  },
  {
   "cell_type": "markdown",
   "id": "ecc6d0a7",
   "metadata": {},
   "source": [
    "### Check information about the dataset"
   ]
  },
  {
   "cell_type": "markdown",
   "id": "75b0993e",
   "metadata": {},
   "source": [
    "Use df.head() to see the first few rows of the dataset, and df.info() to see the type and missing values of the dataset."
   ]
  },
  {
   "cell_type": "code",
   "execution_count": 65,
   "id": "1dc3356e",
   "metadata": {},
   "outputs": [
    {
     "data": {
      "text/html": [
       "<div>\n",
       "<style scoped>\n",
       "    .dataframe tbody tr th:only-of-type {\n",
       "        vertical-align: middle;\n",
       "    }\n",
       "\n",
       "    .dataframe tbody tr th {\n",
       "        vertical-align: top;\n",
       "    }\n",
       "\n",
       "    .dataframe thead th {\n",
       "        text-align: right;\n",
       "    }\n",
       "</style>\n",
       "<table border=\"1\" class=\"dataframe\">\n",
       "  <thead>\n",
       "    <tr style=\"text-align: right;\">\n",
       "      <th></th>\n",
       "      <th>Title</th>\n",
       "      <th>Artist</th>\n",
       "      <th>Lyrics</th>\n",
       "    </tr>\n",
       "  </thead>\n",
       "  <tbody>\n",
       "    <tr>\n",
       "      <th>0</th>\n",
       "      <td>Tim McGraw</td>\n",
       "      <td>Taylor Swift</td>\n",
       "      <td>He said the way my blue eyes shinedPut those G...</td>\n",
       "    </tr>\n",
       "    <tr>\n",
       "      <th>1</th>\n",
       "      <td>Picture To Burn</td>\n",
       "      <td>Taylor Swift</td>\n",
       "      <td>State the obvious, I didn't get my perfect fan...</td>\n",
       "    </tr>\n",
       "    <tr>\n",
       "      <th>2</th>\n",
       "      <td>Teardrops On My Guitar</td>\n",
       "      <td>Taylor Swift</td>\n",
       "      <td>Drew looks at meI fake a smile so he won't see...</td>\n",
       "    </tr>\n",
       "    <tr>\n",
       "      <th>3</th>\n",
       "      <td>A Place In This World</td>\n",
       "      <td>Taylor Swift</td>\n",
       "      <td>I don't know what I want, so don't ask me'Caus...</td>\n",
       "    </tr>\n",
       "    <tr>\n",
       "      <th>4</th>\n",
       "      <td>Cold As You</td>\n",
       "      <td>Taylor Swift</td>\n",
       "      <td>You have a way of coming easily to meAnd when ...</td>\n",
       "    </tr>\n",
       "  </tbody>\n",
       "</table>\n",
       "</div>"
      ],
      "text/plain": [
       "                    Title        Artist  \\\n",
       "0              Tim McGraw  Taylor Swift   \n",
       "1         Picture To Burn  Taylor Swift   \n",
       "2  Teardrops On My Guitar  Taylor Swift   \n",
       "3   A Place In This World  Taylor Swift   \n",
       "4             Cold As You  Taylor Swift   \n",
       "\n",
       "                                              Lyrics  \n",
       "0  He said the way my blue eyes shinedPut those G...  \n",
       "1  State the obvious, I didn't get my perfect fan...  \n",
       "2  Drew looks at meI fake a smile so he won't see...  \n",
       "3  I don't know what I want, so don't ask me'Caus...  \n",
       "4  You have a way of coming easily to meAnd when ...  "
      ]
     },
     "execution_count": 65,
     "metadata": {},
     "output_type": "execute_result"
    }
   ],
   "source": [
    "df_ts = pd.read_csv('Lyrics-TaylorSwift.csv', index_col=0)\n",
    "df_ts.head()"
   ]
  },
  {
   "cell_type": "code",
   "execution_count": 21,
   "id": "a8aef0a1",
   "metadata": {},
   "outputs": [
    {
     "name": "stdout",
     "output_type": "stream",
     "text": [
      "<class 'pandas.core.frame.DataFrame'>\n",
      "Int64Index: 14 entries, 0 to 13\n",
      "Data columns (total 3 columns):\n",
      " #   Column  Non-Null Count  Dtype \n",
      "---  ------  --------------  ----- \n",
      " 0   Title   14 non-null     object\n",
      " 1   Artist  14 non-null     object\n",
      " 2   Lyrics  14 non-null     object\n",
      "dtypes: object(3)\n",
      "memory usage: 448.0+ bytes\n"
     ]
    }
   ],
   "source": [
    "df_ts.info()"
   ]
  },
  {
   "cell_type": "code",
   "execution_count": 61,
   "id": "058b25c5",
   "metadata": {},
   "outputs": [
    {
     "data": {
      "text/html": [
       "<div>\n",
       "<style scoped>\n",
       "    .dataframe tbody tr th:only-of-type {\n",
       "        vertical-align: middle;\n",
       "    }\n",
       "\n",
       "    .dataframe tbody tr th {\n",
       "        vertical-align: top;\n",
       "    }\n",
       "\n",
       "    .dataframe thead th {\n",
       "        text-align: right;\n",
       "    }\n",
       "</style>\n",
       "<table border=\"1\" class=\"dataframe\">\n",
       "  <thead>\n",
       "    <tr style=\"text-align: right;\">\n",
       "      <th></th>\n",
       "      <th>Title</th>\n",
       "      <th>Artist</th>\n",
       "      <th>Lyrics</th>\n",
       "    </tr>\n",
       "  </thead>\n",
       "  <tbody>\n",
       "    <tr>\n",
       "      <th>0</th>\n",
       "      <td>Open Your Ears</td>\n",
       "      <td>Ed Sheeran</td>\n",
       "      <td>Canât get you off my mindLook at me and you ...</td>\n",
       "    </tr>\n",
       "    <tr>\n",
       "      <th>1</th>\n",
       "      <td>Beyond The Pale</td>\n",
       "      <td>Ed Sheeran</td>\n",
       "      <td>Just lay it all down on meItâs getting harde...</td>\n",
       "    </tr>\n",
       "    <tr>\n",
       "      <th>2</th>\n",
       "      <td>In Memory</td>\n",
       "      <td>Ed Sheeran</td>\n",
       "      <td>I write this song in memory ofThe wayward smil...</td>\n",
       "    </tr>\n",
       "    <tr>\n",
       "      <th>3</th>\n",
       "      <td>Insomniac's Lullaby</td>\n",
       "      <td>Ed Sheeran</td>\n",
       "      <td>Iâm getting very edgyCos youâre trying to ...</td>\n",
       "    </tr>\n",
       "    <tr>\n",
       "      <th>4</th>\n",
       "      <td>Quiet Ballad Of Ed</td>\n",
       "      <td>Ed Sheeran</td>\n",
       "      <td>In shadow there lies hopeCut tension with a kn...</td>\n",
       "    </tr>\n",
       "  </tbody>\n",
       "</table>\n",
       "</div>"
      ],
      "text/plain": [
       "                 Title      Artist  \\\n",
       "0       Open Your Ears  Ed Sheeran   \n",
       "1      Beyond The Pale  Ed Sheeran   \n",
       "2            In Memory  Ed Sheeran   \n",
       "3  Insomniac's Lullaby  Ed Sheeran   \n",
       "4   Quiet Ballad Of Ed  Ed Sheeran   \n",
       "\n",
       "                                              Lyrics  \n",
       "0  Canât get you off my mindLook at me and you ...  \n",
       "1  Just lay it all down on meItâs getting harde...  \n",
       "2  I write this song in memory ofThe wayward smil...  \n",
       "3  Iâm getting very edgyCos youâre trying to ...  \n",
       "4  In shadow there lies hopeCut tension with a kn...  "
      ]
     },
     "execution_count": 61,
     "metadata": {},
     "output_type": "execute_result"
    }
   ],
   "source": [
    "df_es = pd.read_csv('Lyrics-EdSheeran.csv', index_col=0)\n",
    "df_es.head()"
   ]
  },
  {
   "cell_type": "code",
   "execution_count": 23,
   "id": "b07570ec",
   "metadata": {},
   "outputs": [
    {
     "name": "stdout",
     "output_type": "stream",
     "text": [
      "<class 'pandas.core.frame.DataFrame'>\n",
      "Int64Index: 13 entries, 0 to 12\n",
      "Data columns (total 3 columns):\n",
      " #   Column  Non-Null Count  Dtype \n",
      "---  ------  --------------  ----- \n",
      " 0   Title   13 non-null     object\n",
      " 1   Artist  13 non-null     object\n",
      " 2   Lyrics  13 non-null     object\n",
      "dtypes: object(3)\n",
      "memory usage: 416.0+ bytes\n"
     ]
    }
   ],
   "source": [
    "df_es.info()"
   ]
  },
  {
   "cell_type": "markdown",
   "id": "9b123ebc",
   "metadata": {},
   "source": [
    " "
   ]
  },
  {
   "cell_type": "markdown",
   "id": "93b5c0a2",
   "metadata": {},
   "source": [
    "### Data Celaning"
   ]
  },
  {
   "cell_type": "markdown",
   "id": "45316174",
   "metadata": {},
   "source": [
    "Data cleaning: Clean the dataset and if there are missing values, consider removing rows or columns with more missing values or filling in the missing values with the mean or mode."
   ]
  },
  {
   "cell_type": "markdown",
   "id": "35005f94",
   "metadata": {},
   "source": [
    "But as we can see from the information above, there are no null values in the two DataFrames. So we just need to clean the text data of the lyrics for the next EDA analysis."
   ]
  },
  {
   "cell_type": "markdown",
   "id": "8322b46a",
   "metadata": {},
   "source": [
    "I chose to use the WhitespaceTokenizer here because in practice I found that the simple tokenizer incorrectly split words like \"don't\" into \"do\" and \"n't\"."
   ]
  },
  {
   "cell_type": "code",
   "execution_count": 88,
   "id": "899aeccf",
   "metadata": {},
   "outputs": [],
   "source": [
    "import nltk\n",
    "from nltk.corpus import stopwords\n",
    "from nltk.tokenize import word_tokenize, sent_tokenize\n",
    "from nltk.stem import WordNetLemmatizer\n",
    "from nltk.tokenize import WhitespaceTokenizer"
   ]
  },
  {
   "cell_type": "code",
   "execution_count": 30,
   "id": "06286704",
   "metadata": {},
   "outputs": [
    {
     "name": "stderr",
     "output_type": "stream",
     "text": [
      "[nltk_data] Downloading package stopwords to\n",
      "[nltk_data]     /Users/elsiana/nltk_data...\n",
      "[nltk_data]   Package stopwords is already up-to-date!\n",
      "[nltk_data] Downloading package punkt to /Users/elsiana/nltk_data...\n",
      "[nltk_data]   Package punkt is already up-to-date!\n",
      "[nltk_data] Downloading package wordnet to /Users/elsiana/nltk_data...\n",
      "[nltk_data]   Package wordnet is already up-to-date!\n",
      "[nltk_data] Downloading package omw-1.4 to /Users/elsiana/nltk_data...\n",
      "[nltk_data]   Package omw-1.4 is already up-to-date!\n"
     ]
    },
    {
     "data": {
      "text/plain": [
       "True"
      ]
     },
     "execution_count": 30,
     "metadata": {},
     "output_type": "execute_result"
    }
   ],
   "source": [
    "nltk.download('stopwords')\n",
    "nltk.download('punkt')\n",
    "nltk.download('wordnet')\n",
    "nltk.download('omw-1.4')"
   ]
  },
  {
   "cell_type": "code",
   "execution_count": 97,
   "id": "4d6b1bfe",
   "metadata": {},
   "outputs": [],
   "source": [
    "def preprocess_text(text):\n",
    "    tokenizer = WhitespaceTokenizer()\n",
    "    words = tokenizer.tokenize(text)\n",
    "    words = [word for word in words if word.lower() not in stopwords.words('english')]\n",
    "    lemmatizer = WordNetLemmatizer()\n",
    "    words = [lemmatizer.lemmatize(word) for word in words]\n",
    "    cleaned_text = ' '.join(words)\n",
    "    return cleaned_text\n"
   ]
  },
  {
   "cell_type": "code",
   "execution_count": 98,
   "id": "5593b702",
   "metadata": {},
   "outputs": [
    {
     "data": {
      "text/html": [
       "<div>\n",
       "<style scoped>\n",
       "    .dataframe tbody tr th:only-of-type {\n",
       "        vertical-align: middle;\n",
       "    }\n",
       "\n",
       "    .dataframe tbody tr th {\n",
       "        vertical-align: top;\n",
       "    }\n",
       "\n",
       "    .dataframe thead th {\n",
       "        text-align: right;\n",
       "    }\n",
       "</style>\n",
       "<table border=\"1\" class=\"dataframe\">\n",
       "  <thead>\n",
       "    <tr style=\"text-align: right;\">\n",
       "      <th></th>\n",
       "      <th>Title</th>\n",
       "      <th>Artist</th>\n",
       "      <th>Lyrics</th>\n",
       "      <th>Lyrics_Cleaned</th>\n",
       "    </tr>\n",
       "  </thead>\n",
       "  <tbody>\n",
       "    <tr>\n",
       "      <th>0</th>\n",
       "      <td>Tim McGraw</td>\n",
       "      <td>Taylor Swift</td>\n",
       "      <td>He said the way my blue eyes shinedPut those G...</td>\n",
       "      <td>said way blue eye shinedPut Georgia star shame...</td>\n",
       "    </tr>\n",
       "    <tr>\n",
       "      <th>1</th>\n",
       "      <td>Picture To Burn</td>\n",
       "      <td>Taylor Swift</td>\n",
       "      <td>State the obvious, I didn't get my perfect fan...</td>\n",
       "      <td>State obvious, get perfect fantasyI realize lo...</td>\n",
       "    </tr>\n",
       "    <tr>\n",
       "      <th>2</th>\n",
       "      <td>Teardrops On My Guitar</td>\n",
       "      <td>Taylor Swift</td>\n",
       "      <td>Drew looks at meI fake a smile so he won't see...</td>\n",
       "      <td>Drew look meI fake smile seeThat want I'm need...</td>\n",
       "    </tr>\n",
       "    <tr>\n",
       "      <th>3</th>\n",
       "      <td>A Place In This World</td>\n",
       "      <td>Taylor Swift</td>\n",
       "      <td>I don't know what I want, so don't ask me'Caus...</td>\n",
       "      <td>know want, ask me'Cause I'm still trying figur...</td>\n",
       "    </tr>\n",
       "    <tr>\n",
       "      <th>4</th>\n",
       "      <td>Cold As You</td>\n",
       "      <td>Taylor Swift</td>\n",
       "      <td>You have a way of coming easily to meAnd when ...</td>\n",
       "      <td>way coming easily meAnd take, take best meSo s...</td>\n",
       "    </tr>\n",
       "    <tr>\n",
       "      <th>5</th>\n",
       "      <td>The Outside</td>\n",
       "      <td>Taylor Swift</td>\n",
       "      <td>I didn't know what I would findWhen I went loo...</td>\n",
       "      <td>know would findWhen went looking reasonI know ...</td>\n",
       "    </tr>\n",
       "    <tr>\n",
       "      <th>6</th>\n",
       "      <td>Tied Together With A Smile</td>\n",
       "      <td>Taylor Swift</td>\n",
       "      <td>Seems the only one who doesn't see your beauty...</td>\n",
       "      <td>Seems one see beautyIs face mirror looking bac...</td>\n",
       "    </tr>\n",
       "    <tr>\n",
       "      <th>7</th>\n",
       "      <td>Stay Beautiful</td>\n",
       "      <td>Taylor Swift</td>\n",
       "      <td>Cory's eyes are like a jungleHe smiles, it's l...</td>\n",
       "      <td>Cory's eye like jungleHe smiles, like radioHe ...</td>\n",
       "    </tr>\n",
       "    <tr>\n",
       "      <th>8</th>\n",
       "      <td>Should've Said No</td>\n",
       "      <td>Taylor Swift</td>\n",
       "      <td>It's strange to think the songs we used to sin...</td>\n",
       "      <td>strange think song used singThe smiles, flower...</td>\n",
       "    </tr>\n",
       "    <tr>\n",
       "      <th>9</th>\n",
       "      <td>Mary's Song (Oh My My My)</td>\n",
       "      <td>Taylor Swift</td>\n",
       "      <td>She said, I was seven and you were nineI looke...</td>\n",
       "      <td>said, seven nineI looked like star shinedIn sk...</td>\n",
       "    </tr>\n",
       "    <tr>\n",
       "      <th>10</th>\n",
       "      <td>Our Song</td>\n",
       "      <td>Taylor Swift</td>\n",
       "      <td>I was riding shotgunWith my hair undoneIn the ...</td>\n",
       "      <td>riding shotgunWith hair undoneIn front seat ca...</td>\n",
       "    </tr>\n",
       "    <tr>\n",
       "      <th>11</th>\n",
       "      <td>I'm Only Me When I'm With You</td>\n",
       "      <td>Taylor Swift</td>\n",
       "      <td>Friday night beneath the starsIn a field behin...</td>\n",
       "      <td>Friday night beneath starsIn field behind yard...</td>\n",
       "    </tr>\n",
       "    <tr>\n",
       "      <th>12</th>\n",
       "      <td>Invisible</td>\n",
       "      <td>Taylor Swift</td>\n",
       "      <td>She can't see the way your eyesLight up when y...</td>\n",
       "      <td>can't see way eyesLight smileShe'll never noti...</td>\n",
       "    </tr>\n",
       "    <tr>\n",
       "      <th>13</th>\n",
       "      <td>A Perfectly Good Heart</td>\n",
       "      <td>Taylor Swift</td>\n",
       "      <td>Why would you wanna break a perfectly good hea...</td>\n",
       "      <td>would wanna break perfectly good heart?Why wou...</td>\n",
       "    </tr>\n",
       "  </tbody>\n",
       "</table>\n",
       "</div>"
      ],
      "text/plain": [
       "                            Title        Artist  \\\n",
       "0                      Tim McGraw  Taylor Swift   \n",
       "1                 Picture To Burn  Taylor Swift   \n",
       "2          Teardrops On My Guitar  Taylor Swift   \n",
       "3           A Place In This World  Taylor Swift   \n",
       "4                     Cold As You  Taylor Swift   \n",
       "5                     The Outside  Taylor Swift   \n",
       "6      Tied Together With A Smile  Taylor Swift   \n",
       "7                  Stay Beautiful  Taylor Swift   \n",
       "8               Should've Said No  Taylor Swift   \n",
       "9       Mary's Song (Oh My My My)  Taylor Swift   \n",
       "10                       Our Song  Taylor Swift   \n",
       "11  I'm Only Me When I'm With You  Taylor Swift   \n",
       "12                      Invisible  Taylor Swift   \n",
       "13         A Perfectly Good Heart  Taylor Swift   \n",
       "\n",
       "                                               Lyrics  \\\n",
       "0   He said the way my blue eyes shinedPut those G...   \n",
       "1   State the obvious, I didn't get my perfect fan...   \n",
       "2   Drew looks at meI fake a smile so he won't see...   \n",
       "3   I don't know what I want, so don't ask me'Caus...   \n",
       "4   You have a way of coming easily to meAnd when ...   \n",
       "5   I didn't know what I would findWhen I went loo...   \n",
       "6   Seems the only one who doesn't see your beauty...   \n",
       "7   Cory's eyes are like a jungleHe smiles, it's l...   \n",
       "8   It's strange to think the songs we used to sin...   \n",
       "9   She said, I was seven and you were nineI looke...   \n",
       "10  I was riding shotgunWith my hair undoneIn the ...   \n",
       "11  Friday night beneath the starsIn a field behin...   \n",
       "12  She can't see the way your eyesLight up when y...   \n",
       "13  Why would you wanna break a perfectly good hea...   \n",
       "\n",
       "                                       Lyrics_Cleaned  \n",
       "0   said way blue eye shinedPut Georgia star shame...  \n",
       "1   State obvious, get perfect fantasyI realize lo...  \n",
       "2   Drew look meI fake smile seeThat want I'm need...  \n",
       "3   know want, ask me'Cause I'm still trying figur...  \n",
       "4   way coming easily meAnd take, take best meSo s...  \n",
       "5   know would findWhen went looking reasonI know ...  \n",
       "6   Seems one see beautyIs face mirror looking bac...  \n",
       "7   Cory's eye like jungleHe smiles, like radioHe ...  \n",
       "8   strange think song used singThe smiles, flower...  \n",
       "9   said, seven nineI looked like star shinedIn sk...  \n",
       "10  riding shotgunWith hair undoneIn front seat ca...  \n",
       "11  Friday night beneath starsIn field behind yard...  \n",
       "12  can't see way eyesLight smileShe'll never noti...  \n",
       "13  would wanna break perfectly good heart?Why wou...  "
      ]
     },
     "execution_count": 98,
     "metadata": {},
     "output_type": "execute_result"
    }
   ],
   "source": [
    "df_ts['Lyrics_Cleaned'] = df_ts['Lyrics'].apply(preprocess_text)\n",
    "df_ts"
   ]
  },
  {
   "cell_type": "code",
   "execution_count": 152,
   "id": "b98f24b0",
   "metadata": {},
   "outputs": [
    {
     "data": {
      "text/html": [
       "<div>\n",
       "<style scoped>\n",
       "    .dataframe tbody tr th:only-of-type {\n",
       "        vertical-align: middle;\n",
       "    }\n",
       "\n",
       "    .dataframe tbody tr th {\n",
       "        vertical-align: top;\n",
       "    }\n",
       "\n",
       "    .dataframe thead th {\n",
       "        text-align: right;\n",
       "    }\n",
       "</style>\n",
       "<table border=\"1\" class=\"dataframe\">\n",
       "  <thead>\n",
       "    <tr style=\"text-align: right;\">\n",
       "      <th></th>\n",
       "      <th>Title</th>\n",
       "      <th>Artist</th>\n",
       "      <th>Lyrics</th>\n",
       "      <th>Lyrics_Cleaned</th>\n",
       "      <th>sentiment_score</th>\n",
       "    </tr>\n",
       "  </thead>\n",
       "  <tbody>\n",
       "    <tr>\n",
       "      <th>0</th>\n",
       "      <td>Open Your Ears</td>\n",
       "      <td>Ed Sheeran</td>\n",
       "      <td>Canât get you off my mindLook at me and you ...</td>\n",
       "      <td>Canât get mindLook findTime time seemsIâll...</td>\n",
       "      <td>0.3818</td>\n",
       "    </tr>\n",
       "    <tr>\n",
       "      <th>1</th>\n",
       "      <td>Beyond The Pale</td>\n",
       "      <td>Ed Sheeran</td>\n",
       "      <td>Just lay it all down on meItâs getting harde...</td>\n",
       "      <td>lay meItâs getting harder breatheJust want k...</td>\n",
       "      <td>0.7059</td>\n",
       "    </tr>\n",
       "    <tr>\n",
       "      <th>2</th>\n",
       "      <td>In Memory</td>\n",
       "      <td>Ed Sheeran</td>\n",
       "      <td>I write this song in memory ofThe wayward smil...</td>\n",
       "      <td>write song memory ofThe wayward smileThe boy f...</td>\n",
       "      <td>0.2960</td>\n",
       "    </tr>\n",
       "    <tr>\n",
       "      <th>3</th>\n",
       "      <td>Insomniac's Lullaby</td>\n",
       "      <td>Ed Sheeran</td>\n",
       "      <td>Iâm getting very edgyCos youâre trying to ...</td>\n",
       "      <td>Iâm getting edgyCos youâre trying take meA...</td>\n",
       "      <td>-0.5803</td>\n",
       "    </tr>\n",
       "    <tr>\n",
       "      <th>4</th>\n",
       "      <td>Quiet Ballad Of Ed</td>\n",
       "      <td>Ed Sheeran</td>\n",
       "      <td>In shadow there lies hopeCut tension with a kn...</td>\n",
       "      <td>shadow lie hopeCut tension knifeI find hard co...</td>\n",
       "      <td>-0.5106</td>\n",
       "    </tr>\n",
       "    <tr>\n",
       "      <th>5</th>\n",
       "      <td>No Luck</td>\n",
       "      <td>Ed Sheeran</td>\n",
       "      <td>Iâm screaming out upon my faceFollowed foots...</td>\n",
       "      <td>Iâm screaming upon faceFollowed footstep cat...</td>\n",
       "      <td>0.8426</td>\n",
       "    </tr>\n",
       "    <tr>\n",
       "      <th>6</th>\n",
       "      <td>Stevensong</td>\n",
       "      <td>Ed Sheeran</td>\n",
       "      <td>Stevie was a boyWho turned into a manHe never ...</td>\n",
       "      <td>Stevie boyWho turned manHe never master planBu...</td>\n",
       "      <td>-0.5423</td>\n",
       "    </tr>\n",
       "    <tr>\n",
       "      <th>7</th>\n",
       "      <td>Billy Ruskin</td>\n",
       "      <td>Ed Sheeran</td>\n",
       "      <td>Mr Ruskin come and paint my pictureWeâre los...</td>\n",
       "      <td>Mr Ruskin come paint pictureWeâre losing sle...</td>\n",
       "      <td>0.8823</td>\n",
       "    </tr>\n",
       "    <tr>\n",
       "      <th>8</th>\n",
       "      <td>Spark</td>\n",
       "      <td>Ed Sheeran</td>\n",
       "      <td>Take me with you I do declareI love you dearly...</td>\n",
       "      <td>Take declareI love dearly thereWhat make share...</td>\n",
       "      <td>0.7041</td>\n",
       "    </tr>\n",
       "    <tr>\n",
       "      <th>9</th>\n",
       "      <td>Pause</td>\n",
       "      <td>Ed Sheeran</td>\n",
       "      <td>You know I got to get awayTo find some peace a...</td>\n",
       "      <td>know got get awayTo find peace sanityIâve pl...</td>\n",
       "      <td>0.9072</td>\n",
       "    </tr>\n",
       "    <tr>\n",
       "      <th>10</th>\n",
       "      <td>The Sea</td>\n",
       "      <td>Ed Sheeran</td>\n",
       "      <td>Pass me a drinkYou say itâs gonna take a whi...</td>\n",
       "      <td>Pass drinkYou say itâs gonna take whileYour ...</td>\n",
       "      <td>0.6486</td>\n",
       "    </tr>\n",
       "    <tr>\n",
       "      <th>11</th>\n",
       "      <td>Way Home</td>\n",
       "      <td>Ed Sheeran</td>\n",
       "      <td>Well I once heard a story about a run-down hom...</td>\n",
       "      <td>Well heard story run-down homeWhere man though...</td>\n",
       "      <td>-0.7978</td>\n",
       "    </tr>\n",
       "    <tr>\n",
       "      <th>12</th>\n",
       "      <td>Bonus Track</td>\n",
       "      <td>Ed Sheeran</td>\n",
       "      <td>I want to be realNot some conscience to myself...</td>\n",
       "      <td>want realNot conscience myselfThe way worship,...</td>\n",
       "      <td>0.4939</td>\n",
       "    </tr>\n",
       "  </tbody>\n",
       "</table>\n",
       "</div>"
      ],
      "text/plain": [
       "                  Title      Artist  \\\n",
       "0        Open Your Ears  Ed Sheeran   \n",
       "1       Beyond The Pale  Ed Sheeran   \n",
       "2             In Memory  Ed Sheeran   \n",
       "3   Insomniac's Lullaby  Ed Sheeran   \n",
       "4    Quiet Ballad Of Ed  Ed Sheeran   \n",
       "5               No Luck  Ed Sheeran   \n",
       "6            Stevensong  Ed Sheeran   \n",
       "7          Billy Ruskin  Ed Sheeran   \n",
       "8                 Spark  Ed Sheeran   \n",
       "9                 Pause  Ed Sheeran   \n",
       "10              The Sea  Ed Sheeran   \n",
       "11             Way Home  Ed Sheeran   \n",
       "12          Bonus Track  Ed Sheeran   \n",
       "\n",
       "                                               Lyrics  \\\n",
       "0   Canât get you off my mindLook at me and you ...   \n",
       "1   Just lay it all down on meItâs getting harde...   \n",
       "2   I write this song in memory ofThe wayward smil...   \n",
       "3   Iâm getting very edgyCos youâre trying to ...   \n",
       "4   In shadow there lies hopeCut tension with a kn...   \n",
       "5   Iâm screaming out upon my faceFollowed foots...   \n",
       "6   Stevie was a boyWho turned into a manHe never ...   \n",
       "7   Mr Ruskin come and paint my pictureWeâre los...   \n",
       "8   Take me with you I do declareI love you dearly...   \n",
       "9   You know I got to get awayTo find some peace a...   \n",
       "10  Pass me a drinkYou say itâs gonna take a whi...   \n",
       "11  Well I once heard a story about a run-down hom...   \n",
       "12  I want to be realNot some conscience to myself...   \n",
       "\n",
       "                                       Lyrics_Cleaned  sentiment_score  \n",
       "0   Canât get mindLook findTime time seemsIâll...           0.3818  \n",
       "1   lay meItâs getting harder breatheJust want k...           0.7059  \n",
       "2   write song memory ofThe wayward smileThe boy f...           0.2960  \n",
       "3   Iâm getting edgyCos youâre trying take meA...          -0.5803  \n",
       "4   shadow lie hopeCut tension knifeI find hard co...          -0.5106  \n",
       "5   Iâm screaming upon faceFollowed footstep cat...           0.8426  \n",
       "6   Stevie boyWho turned manHe never master planBu...          -0.5423  \n",
       "7   Mr Ruskin come paint pictureWeâre losing sle...           0.8823  \n",
       "8   Take declareI love dearly thereWhat make share...           0.7041  \n",
       "9   know got get awayTo find peace sanityIâve pl...           0.9072  \n",
       "10  Pass drinkYou say itâs gonna take whileYour ...           0.6486  \n",
       "11  Well heard story run-down homeWhere man though...          -0.7978  \n",
       "12  want realNot conscience myselfThe way worship,...           0.4939  "
      ]
     },
     "execution_count": 152,
     "metadata": {},
     "output_type": "execute_result"
    }
   ],
   "source": [
    "df_es['Lyrics_Cleaned'] = df_es['Lyrics'].apply(preprocess_text)\n",
    "df_es"
   ]
  },
  {
   "cell_type": "markdown",
   "id": "f65e1c4e",
   "metadata": {},
   "source": [
    " "
   ]
  },
  {
   "cell_type": "markdown",
   "id": "e29f7001",
   "metadata": {},
   "source": [
    "### Data Analysis/Visualisation"
   ]
  },
  {
   "cell_type": "markdown",
   "id": "f7de87d6",
   "metadata": {},
   "source": [
    "use the artists and lyrics in the dataset for word frequency analysis, count the number of songs by the artist, or use the text analysis tool for lyrics for sentiment analysis."
   ]
  },
  {
   "cell_type": "markdown",
   "id": "eea0930d",
   "metadata": {},
   "source": [
    "Here, I analyse the lyrics from the two artists' two albums for sentiment and generate a heat map, hoping to analyse the sentiment tendencies of the two artists' songs from their respective debut albums through such visualisation."
   ]
  },
  {
   "cell_type": "code",
   "execution_count": 104,
   "id": "6c429886",
   "metadata": {},
   "outputs": [],
   "source": [
    "from nltk.sentiment import SentimentIntensityAnalyzer"
   ]
  },
  {
   "cell_type": "code",
   "execution_count": 107,
   "id": "38cde475",
   "metadata": {},
   "outputs": [
    {
     "name": "stderr",
     "output_type": "stream",
     "text": [
      "[nltk_data] Downloading package vader_lexicon to\n",
      "[nltk_data]     /Users/elsiana/nltk_data...\n",
      "[nltk_data]   Package vader_lexicon is already up-to-date!\n"
     ]
    },
    {
     "data": {
      "text/plain": [
       "True"
      ]
     },
     "execution_count": 107,
     "metadata": {},
     "output_type": "execute_result"
    }
   ],
   "source": [
    "nltk.download('vader_lexicon')"
   ]
  },
  {
   "cell_type": "markdown",
   "id": "ff6f9f92",
   "metadata": {},
   "source": [
    " Firstly, the text is analysed for sentiment first, here using the VADER tool, to get the sentiment score for each song. \n",
    " \n",
    " And then, add these scores to the DataFrame. \n",
    " \n",
    " Finally the heatmap() function of seaborn was used to draw the heat map."
   ]
  },
  {
   "cell_type": "code",
   "execution_count": 151,
   "id": "67f5d0c8",
   "metadata": {},
   "outputs": [
    {
     "data": {
      "image/png": "[encoded data removed]",
      "text/plain": [
       "<Figure size 720x360 with 4 Axes>"
      ]
     },
     "metadata": {
      "needs_background": "light"
     },
     "output_type": "display_data"
    },
    {
     "data": {
      "text/plain": [
       "<Figure size 720x360 with 0 Axes>"
      ]
     },
     "metadata": {},
     "output_type": "display_data"
    },
    {
     "data": {
      "text/plain": [
       "<Figure size 720x360 with 0 Axes>"
      ]
     },
     "metadata": {},
     "output_type": "display_data"
    }
   ],
   "source": [
    "# Taylor Swift (2006) Sentiment\n",
    "sia = SentimentIntensityAnalyzer()\n",
    "df_ts['sentiment_score'] = df_ts['Lyrics_Cleaned'].apply(lambda x: sia.polarity_scores(x)['compound'])\n",
    "\n",
    "fig, axs = plt.subplots(1, 2, figsize=(10, 5))\n",
    "\n",
    "# Taylor Swift (2006) Sentiment Heat Map\n",
    "plt.figure(figsize=(10,5))\n",
    "sns.heatmap(df_ts.pivot_table(values='sentiment_score', \n",
    "                           columns='Title', \n",
    "                           index='Artist', \n",
    "                           aggfunc='mean'),\n",
    "            annot=True, fmt='.2f', cmap='coolwarm', ax=axs[0])\n",
    "axs[0].set_title('Taylor Swift (2006) Sentiment')\n",
    "\n",
    "\n",
    "\n",
    "# Ed Sheeran (2006) Sentiment\n",
    "sia = SentimentIntensityAnalyzer()\n",
    "df_es['sentiment_score'] = df_es['Lyrics_Cleaned'].apply(lambda x: sia.polarity_scores(x)['compound'])\n",
    "\n",
    "# Ed Sheeran (2006) Sentiment Heat Map\n",
    "plt.figure(figsize=(10,5))\n",
    "sns.heatmap(df_es.pivot_table(values='sentiment_score', \n",
    "                           columns='Title', \n",
    "                           index='Artist', \n",
    "                           aggfunc='mean'),\n",
    "            annot=True, fmt='.2f', cmap='coolwarm', ax=axs[1])\n",
    "axs[1].set_title(\"Ed Sheeran (2006) Sentiment\")\n",
    "\n",
    "\n",
    "plt.subplots_adjust(wspace=0.5)\n",
    "plt.show()\n"
   ]
  },
  {
   "cell_type": "markdown",
   "id": "8b84438d",
   "metadata": {},
   "source": [
    "The two heat maps above show that a very high percentage (6/14) of songs with very positive moods (scores above 0.9) are on Taylor's debut album, while it can also be seen that there are three songs with scores below -0.9. The number of songs with relatively extreme emotions (scores greater than 0.9 in absolute terms) reaches 64% of the album. Thus we can say that Taylor's emotional expression in this album is relatively more overt and more pronounced."
   ]
  },
  {
   "cell_type": "markdown",
   "id": "f5db1b24",
   "metadata": {},
   "source": [
    "On Ed's debut album, we can see by the colour values of the heat map that there are fewer songs on his album with a very obvious emotional tendency, and he expresses his emotions more subtly through this album."
   ]
  },
  {
   "cell_type": "markdown",
   "id": "d34758f8",
   "metadata": {},
   "source": [
    "Ed's songwriting style leans towards modern folk, while Taylor started out as a country singer. The difference between the two genres is one of the reasons why the two albums are distinctly different in terms of lyrical sentiment."
   ]
  },
  {
   "cell_type": "markdown",
   "id": "f38cc4a6",
   "metadata": {},
   "source": [
    "The songs on Taylor's album are mainly about young girls' experiences of love and growing up, and are written with a more personal touch, hence the more emotional lyrics. Ed's songs on this album, on the other hand, are more mature in their lyrical choices, as many of them are based on life lessons."
   ]
  },
  {
   "cell_type": "markdown",
   "id": "fd945331",
   "metadata": {},
   "source": [
    "There are some errors in this study, for example, Taylor Swift's \"Tear drops on my guitar\" is supposed to be a relatively negative song, but in VADER it is defined as a very positive song."
   ]
  },
  {
   "cell_type": "code",
   "execution_count": null,
   "id": "4ab3ca07",
   "metadata": {},
   "outputs": [],
   "source": []
  }
 ],
 "metadata": {
  "kernelspec": {
   "display_name": "Python 3 (ipykernel)",
   "language": "python",
   "name": "python3"
  },
  "language_info": {
   "codemirror_mode": {
    "name": "ipython",
    "version": 3
   },
   "file_extension": ".py",
   "mimetype": "text/x-python",
   "name": "python",
   "nbconvert_exporter": "python",
   "pygments_lexer": "ipython3",
   "version": "3.9.12"
  }
 },
 "nbformat": 4,
 "nbformat_minor": 5
}
